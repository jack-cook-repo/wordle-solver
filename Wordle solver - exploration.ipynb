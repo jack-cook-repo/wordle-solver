{
 "cells": [
  {
   "cell_type": "markdown",
   "id": "f5c63e66",
   "metadata": {},
   "source": [
    "### Import and install"
   ]
  },
  {
   "cell_type": "code",
   "execution_count": 14,
   "id": "29a29bfd",
   "metadata": {},
   "outputs": [
    {
     "name": "stderr",
     "output_type": "stream",
     "text": [
      "[nltk_data] Downloading package words to /Users/jackcook/nltk_data...\n",
      "[nltk_data]   Package words is already up-to-date!\n"
     ]
    },
    {
     "data": {
      "text/plain": [
       "True"
      ]
     },
     "execution_count": 14,
     "metadata": {},
     "output_type": "execute_result"
    }
   ],
   "source": [
    "import nltk\n",
    "import string\n",
    "import pandas as pd\n",
    "import numpy as np\n",
    "import copy\n",
    "nltk.download('words')"
   ]
  },
  {
   "cell_type": "markdown",
   "id": "15477d3b",
   "metadata": {},
   "source": [
    "### Get 5 letter words"
   ]
  },
  {
   "cell_type": "code",
   "execution_count": 15,
   "id": "f43740d6",
   "metadata": {},
   "outputs": [
    {
     "name": "stdout",
     "output_type": "stream",
     "text": [
      "9972\n"
     ]
    },
    {
     "data": {
      "text/plain": [
       "['AALII',\n",
       " 'AARON',\n",
       " 'ABACA',\n",
       " 'ABACK',\n",
       " 'ABAFF',\n",
       " 'ABAFT',\n",
       " 'ABAMA',\n",
       " 'ABASE',\n",
       " 'ABASH',\n",
       " 'ABASK']"
      ]
     },
     "execution_count": 15,
     "metadata": {},
     "output_type": "execute_result"
    }
   ],
   "source": [
    "words_5l = sorted(list(set([w.upper() for w in nltk.corpus.words.words() if len(w) == 5])))\n",
    "print(len(words_5l))\n",
    "words_5l[:10]"
   ]
  },
  {
   "cell_type": "markdown",
   "id": "92f84ffa",
   "metadata": {},
   "source": [
    "Arrange as a DataFrame"
   ]
  },
  {
   "cell_type": "code",
   "execution_count": 16,
   "id": "4b270e96",
   "metadata": {},
   "outputs": [
    {
     "data": {
      "text/html": [
       "<div>\n",
       "<style scoped>\n",
       "    .dataframe tbody tr th:only-of-type {\n",
       "        vertical-align: middle;\n",
       "    }\n",
       "\n",
       "    .dataframe tbody tr th {\n",
       "        vertical-align: top;\n",
       "    }\n",
       "\n",
       "    .dataframe thead th {\n",
       "        text-align: right;\n",
       "    }\n",
       "</style>\n",
       "<table border=\"1\" class=\"dataframe\">\n",
       "  <thead>\n",
       "    <tr style=\"text-align: right;\">\n",
       "      <th></th>\n",
       "      <th>letter_1</th>\n",
       "      <th>letter_2</th>\n",
       "      <th>letter_3</th>\n",
       "      <th>letter_4</th>\n",
       "      <th>letter_5</th>\n",
       "    </tr>\n",
       "  </thead>\n",
       "  <tbody>\n",
       "    <tr>\n",
       "      <th>0</th>\n",
       "      <td>A</td>\n",
       "      <td>A</td>\n",
       "      <td>L</td>\n",
       "      <td>I</td>\n",
       "      <td>I</td>\n",
       "    </tr>\n",
       "    <tr>\n",
       "      <th>1</th>\n",
       "      <td>A</td>\n",
       "      <td>A</td>\n",
       "      <td>R</td>\n",
       "      <td>O</td>\n",
       "      <td>N</td>\n",
       "    </tr>\n",
       "    <tr>\n",
       "      <th>2</th>\n",
       "      <td>A</td>\n",
       "      <td>B</td>\n",
       "      <td>A</td>\n",
       "      <td>C</td>\n",
       "      <td>A</td>\n",
       "    </tr>\n",
       "    <tr>\n",
       "      <th>3</th>\n",
       "      <td>A</td>\n",
       "      <td>B</td>\n",
       "      <td>A</td>\n",
       "      <td>C</td>\n",
       "      <td>K</td>\n",
       "    </tr>\n",
       "    <tr>\n",
       "      <th>4</th>\n",
       "      <td>A</td>\n",
       "      <td>B</td>\n",
       "      <td>A</td>\n",
       "      <td>F</td>\n",
       "      <td>F</td>\n",
       "    </tr>\n",
       "  </tbody>\n",
       "</table>\n",
       "</div>"
      ],
      "text/plain": [
       "  letter_1 letter_2 letter_3 letter_4 letter_5\n",
       "0        A        A        L        I        I\n",
       "1        A        A        R        O        N\n",
       "2        A        B        A        C        A\n",
       "3        A        B        A        C        K\n",
       "4        A        B        A        F        F"
      ]
     },
     "execution_count": 16,
     "metadata": {},
     "output_type": "execute_result"
    }
   ],
   "source": [
    "arr_words_5l = np.array([list(w) for w in words_5l])\n",
    "df_words_5l = pd.DataFrame(data=arr_words_5l,\n",
    "                           columns=[f'letter_{i+1}' for i in range(5)])\n",
    "\n",
    "df_words_5l.head()"
   ]
  },
  {
   "cell_type": "code",
   "execution_count": 93,
   "id": "969679bc",
   "metadata": {},
   "outputs": [
    {
     "data": {
      "text/plain": [
       "Index(['letter_1', 'letter_2', 'letter_3', 'letter_4', 'letter_5'], dtype='object')"
      ]
     },
     "execution_count": 93,
     "metadata": {},
     "output_type": "execute_result"
    }
   ],
   "source": [
    "df_words_5l.columns"
   ]
  },
  {
   "cell_type": "markdown",
   "id": "f0d4f0d0",
   "metadata": {},
   "source": [
    "Get list of letters at each position, ordered by their frequency"
   ]
  },
  {
   "cell_type": "code",
   "execution_count": 59,
   "id": "912f0f38",
   "metadata": {},
   "outputs": [
    {
     "data": {
      "text/plain": [
       "array(['S', 'A', 'C', 'B', 'T', 'P', 'M', 'D', 'G', 'R', 'F', 'L', 'H',\n",
       "       'W', 'K', 'U', 'N', 'E', 'O', 'I', 'V', 'J', 'Y', 'Z', 'Q', 'X'],\n",
       "      dtype=object)"
      ]
     },
     "execution_count": 59,
     "metadata": {},
     "output_type": "execute_result"
    }
   ],
   "source": [
    "dict_most_likely[1]"
   ]
  },
  {
   "cell_type": "markdown",
   "id": "09d721f1",
   "metadata": {},
   "source": [
    "Initialise game"
   ]
  },
  {
   "cell_type": "code",
   "execution_count": 60,
   "id": "30792b57",
   "metadata": {},
   "outputs": [
    {
     "data": {
      "text/plain": [
       "Counter({'a': 2, 'b': 1})"
      ]
     },
     "execution_count": 60,
     "metadata": {},
     "output_type": "execute_result"
    }
   ],
   "source": [
    "Counter(['a', 'a', 'b'])"
   ]
  },
  {
   "cell_type": "code",
   "execution_count": 81,
   "id": "2af5dbfa",
   "metadata": {},
   "outputs": [
    {
     "data": {
      "text/plain": [
       "defaultdict(str,\n",
       "            {1: array(['S', 'A', 'C', 'B', 'T', 'P', 'M', 'D', 'G', 'R', 'F', 'L', 'H',\n",
       "                    'W', 'K', 'U', 'N', 'E', 'O', 'I', 'V', 'J', 'Y', 'Z', 'Q', 'X'],\n",
       "                   dtype=object),\n",
       "             2: array(['A', 'O', 'E', 'I', 'U', 'R', 'L', 'H', 'N', 'T', 'P', 'C', 'Y',\n",
       "                    'M', 'W', 'S', 'D', 'B', 'K', 'G', 'V', 'X', 'Z', 'F', 'Q', 'J'],\n",
       "                   dtype=object),\n",
       "             3: array(['A', 'R', 'I', 'O', 'N', 'E', 'L', 'U', 'T', 'S', 'M', 'D', 'B',\n",
       "                    'G', 'C', 'P', 'K', 'V', 'W', 'Y', 'H', 'F', 'Z', 'X', 'J', 'Q'],\n",
       "                   dtype=object),\n",
       "             4: array(['E', 'A', 'I', 'N', 'R', 'O', 'L', 'T', 'S', 'U', 'C', 'G', 'D',\n",
       "                    'M', 'K', 'P', 'B', 'H', 'V', 'F', 'Z', 'Y', 'W', 'J', 'X', 'Q'],\n",
       "                   dtype=object),\n",
       "             5: array(['E', 'Y', 'A', 'T', 'R', 'N', 'L', 'S', 'D', 'H', 'O', 'I', 'K',\n",
       "                    'M', 'C', 'P', 'G', 'U', 'X', 'F', 'B', 'W', 'Z', 'V', 'J', 'Q'],\n",
       "                   dtype=object)})"
      ]
     },
     "execution_count": 81,
     "metadata": {},
     "output_type": "execute_result"
    }
   ],
   "source": [
    "MyGame.dict_most_likely_letters"
   ]
  },
  {
   "cell_type": "code",
   "execution_count": 90,
   "id": "3d613f63",
   "metadata": {},
   "outputs": [
    {
     "data": {
      "text/plain": [
       "Counter({'A': 33,\n",
       "         'B': 13,\n",
       "         'C': 28,\n",
       "         'D': 7,\n",
       "         'F': 20,\n",
       "         'H': 3,\n",
       "         'I': 12,\n",
       "         'K': 7,\n",
       "         'L': 3,\n",
       "         'N': 3,\n",
       "         'O': 14,\n",
       "         'P': 15,\n",
       "         'Q': 7,\n",
       "         'R': 4,\n",
       "         'S': 55,\n",
       "         'U': 9,\n",
       "         'V': 1,\n",
       "         'W': 11,\n",
       "         'Y': 1,\n",
       "         'Z': 1})"
      ]
     },
     "execution_count": 90,
     "metadata": {},
     "output_type": "execute_result"
    }
   ],
   "source": [
    "MyGame.dict_most_likely[1]"
   ]
  },
  {
   "cell_type": "code",
   "execution_count": null,
   "id": "ff30133d",
   "metadata": {},
   "outputs": [],
   "source": [
    "test_df"
   ]
  },
  {
   "cell_type": "code",
   "execution_count": 95,
   "id": "2eb91fc2",
   "metadata": {},
   "outputs": [
    {
     "data": {
      "text/plain": [
       "0    AB\n",
       "1    CD\n",
       "dtype: object"
      ]
     },
     "execution_count": 95,
     "metadata": {},
     "output_type": "execute_result"
    }
   ],
   "source": [
    "test_df = pd.DataFrame([['A','B'],['C','D']], columns=['a','b'])\n",
    "test_df.agg(''.join, axis=1)"
   ]
  },
  {
   "cell_type": "code",
   "execution_count": 88,
   "id": "3c61be4f",
   "metadata": {},
   "outputs": [],
   "source": [
    "from collections import defaultdict, Counter\n",
    "\n",
    "\n",
    "# All letters in alphabet\n",
    "alpha_list = list(string.ascii_uppercase)\n",
    "\n",
    "class Game:\n",
    "    \n",
    "    def __init__(self, df_all_5l_words, list_possible_letters, dict_most_likely_letters):\n",
    "        \n",
    "        self.possible_letters = copy.deepcopy(alpha_list)\n",
    "        self.dict_misplaced_letters = Counter()\n",
    "        self.df_possible_5l_words = df_all_5l_words.copy(deep=True)\n",
    "        \n",
    "        self.dict_letters = defaultdict(str)\n",
    "        for i in range(5):\n",
    "            self.dict_letters[i+1] = None\n",
    "        \n",
    "        self.dict_most_likely = defaultdict(str)\n",
    "        for i in range(5):\n",
    "            self.dict_most_likely[i+1] = Counter(df_words_5l[f'letter_{i+1}'])\n",
    "        \n",
    "\n",
    "    def calculate_score(self, letters):\n",
    "        '''\n",
    "        Based on a set of letters, sum their frequency score at each position\n",
    "        '''\n",
    "        \n",
    "        score = 0\n",
    "        for i, l in enumerate(list(letters.upper())):\n",
    "            score += self.dict_most_likely[i+1][l]\n",
    "            \n",
    "        return score\n",
    "    \n",
    "    vect_calculate_score = np.vectorize(calculate_score)\n",
    "        \n",
    "    \n",
    "    def guess(self):\n",
    "        '''\n",
    "        Given a game state, produces the best guess possible based on the 'score' at\n",
    "        each position.\n",
    "        \n",
    "        The list of possible words is already filtered for correct answers,\n",
    "        and letters that fall within the list of possible list of letters for the remaining\n",
    "        positions.\n",
    "        '''\n",
    "        \n",
    "        self.df_possible_5l_words['word'] = self.df_possible_5l_words[['letter_1', \n",
    "                                                                      'letter_2', \n",
    "                                                                      'letter_3', \n",
    "                                                                      'letter_4', \n",
    "                                                                      'letter_5']].agg(''.join, axis=1)\n",
    "        \n",
    "        self.df_possible_5l_words['score'] = vect_calculate_score(self.df_possible_5l_words['word'])\n",
    "        \n",
    "    \n",
    "    def update(self, guess, results):\n",
    "        '''\n",
    "        Takes a 5 letter guess as a string, and a list of results in the format:\n",
    "        0 - incorrect\n",
    "        1 - right letter, wrong place\n",
    "        2 - right letter, right place\n",
    "        \n",
    "        Updates the game states (possible letters, misplaced letters, answers).\n",
    "        \n",
    "        Doesn't return anything\n",
    "        '''\n",
    "        \n",
    "        assert len(guess) == 5, 'Guess must be 5 characters long'\n",
    "        \n",
    "        # Convert guess into list of letters\n",
    "        list_guess = list(guess.upper())\n",
    "        \n",
    "        # Zip with results\n",
    "        df_guess_results = pd.DataFrame(data=list(zip(list_guess, results)),\n",
    "                                        columns=['letter', 'result'],\n",
    "                                        index=np.arange(1,6))\n",
    "        \n",
    "        # To prevent iterating through already solved letters\n",
    "        already_solved = [key for key, value in self.dict_letters.items() if value is not None]\n",
    "\n",
    "        \n",
    "        # Update correct answers\n",
    "        df_corr_answers = df_guess_results.query('result==2')\n",
    "        if df_corr_answers.shape[0] > 0:\n",
    "            for idx, row in df_corr_answers.iterrows():\n",
    "                \n",
    "                # Prevent updates for previously solved letters\n",
    "                if idx in already_solved:\n",
    "                    pass\n",
    "                else:\n",
    "                    corr_letter = row['letter']\n",
    "                    self.dict_letters[idx] = corr_letter\n",
    "                \n",
    "                    # If correct letter was previously guessed as a misplaced letter, remove it\n",
    "                    if corr_letter in self.dict_misplaced_letters.keys():\n",
    "                        self.dict_misplaced_letters[corr_letter] -= 1\n",
    "                        \n",
    "                    # And filter dataframe of possible words\n",
    "                    self.df_possible_5l_words = self.df_possible_5l_words.query(f'letter_{idx}==\"{corr_letter}\"')\n",
    "                    \n",
    "                        \n",
    "        # Add misplaced letters to our list, if it's a new letter\n",
    "        df_mispl_answers = df_guess_results.query('result==1')\n",
    "        if df_mispl_answers.shape[0] > 0:\n",
    "            \n",
    "            # Check how many we have of each letter that's misplaced\n",
    "            guess_mispl_letters = df_mispl_answers['letter'].values\n",
    "            dict_guess_mispl_letters = Counter(guess_mispl_letters)\n",
    "            \n",
    "            # Then update our dictionary of misplaced letters\n",
    "            for key, value in dict_guess_mispl_letters.items():\n",
    "                self.dict_misplaced_letters[key] = value       \n",
    "                \n",
    "        \n",
    "        # Remove any incorrect letters from the list to guess from\n",
    "        df_wrong_answers = df_guess_results.query('result==0')\n",
    "        if df_wrong_answers.shape[0] > 0:\n",
    "            \n",
    "            for l in df_wrong_answers['letter'].unique():\n",
    "                self.possible_letters.remove(l)\n",
    "                \n",
    "                \n",
    "        # Finally, update list of possible 5 letter words by removing all rows where\n",
    "        # for letters yet to be guessed, they don't fall in the list of possible letters\n",
    "        yet_to_solve = [key for key, value in self.dict_letters.items() if value is None]\n",
    "        for position in yet_to_solve:\n",
    "            \n",
    "            # Check all letters in a given position\n",
    "            position_letters = self.df_possible_5l_words[f'letter_{position}']\n",
    "            \n",
    "            # Return a boolean list of whether that list is in the possible values or not\n",
    "            position_in_possible_letters = [l in self.possible_letters for l in position_letters]\n",
    "            \n",
    "            # Filter\n",
    "            self.df_possible_5l_words = self.df_possible_5l_words[position_in_possible_letters].copy(deep=True)\n",
    "        \n",
    "        \n",
    "        # And recalibrate counter dictionary\n",
    "        self.dict_most_likely = defaultdict(str)\n",
    "        for i in range(5):\n",
    "            self.dict_most_likely[i+1] = Counter(self.df_possible_5l_words[f'letter_{i+1}'])\n",
    "    \n",
    "        \n",
    "MyGame = Game(df_words_5l, alpha_list, dict_most_likely)\n",
    "MyGame.update('greet', [0, 1, 2, 0, 0])"
   ]
  },
  {
   "cell_type": "code",
   "execution_count": 90,
   "id": "3368a1ba",
   "metadata": {},
   "outputs": [
    {
     "data": {
      "text/plain": [
       "Counter({'A': 33,\n",
       "         'B': 13,\n",
       "         'C': 28,\n",
       "         'D': 7,\n",
       "         'F': 20,\n",
       "         'H': 3,\n",
       "         'I': 12,\n",
       "         'K': 7,\n",
       "         'L': 3,\n",
       "         'N': 3,\n",
       "         'O': 14,\n",
       "         'P': 15,\n",
       "         'Q': 7,\n",
       "         'R': 4,\n",
       "         'S': 55,\n",
       "         'U': 9,\n",
       "         'V': 1,\n",
       "         'W': 11,\n",
       "         'Y': 1,\n",
       "         'Z': 1})"
      ]
     },
     "execution_count": 90,
     "metadata": {},
     "output_type": "execute_result"
    }
   ],
   "source": [
    "MyGame.dict_most_likely[1]"
   ]
  },
  {
   "cell_type": "code",
   "execution_count": 57,
   "id": "fcc4b6b6",
   "metadata": {},
   "outputs": [
    {
     "data": {
      "text/plain": [
       "['a']"
      ]
     },
     "execution_count": 57,
     "metadata": {},
     "output_type": "execute_result"
    }
   ],
   "source": [
    "mylist = ['a', 'b']\n",
    "mylist.remove('b')\n",
    "mylist"
   ]
  }
 ],
 "metadata": {
  "kernelspec": {
   "display_name": "Python 3 (ipykernel)",
   "language": "python",
   "name": "python3"
  },
  "language_info": {
   "codemirror_mode": {
    "name": "ipython",
    "version": 3
   },
   "file_extension": ".py",
   "mimetype": "text/x-python",
   "name": "python",
   "nbconvert_exporter": "python",
   "pygments_lexer": "ipython3",
   "version": "3.9.0"
  }
 },
 "nbformat": 4,
 "nbformat_minor": 5
}
